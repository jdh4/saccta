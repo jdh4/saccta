{
 "cells": [
  {
   "cell_type": "code",
   "execution_count": 1,
   "id": "53021909-a02c-4459-b8e6-1937958728f2",
   "metadata": {},
   "outputs": [],
   "source": [
    "import os\n",
    "import subprocess\n",
    "from calendar import monthrange\n",
    "import pandas as pd"
   ]
  },
  {
   "cell_type": "code",
   "execution_count": 2,
   "id": "86640bfd-3c06-4e09-b143-8f8fff7c0853",
   "metadata": {},
   "outputs": [],
   "source": [
    "os.environ[\"SLURM_TIME_FORMAT\"] = \"%s\""
   ]
  },
  {
   "cell_type": "code",
   "execution_count": 3,
   "id": "2fec82d2-c291-4a26-8f12-850eb14f20b0",
   "metadata": {},
   "outputs": [],
   "source": [
    "def get_data_from_sacct(clusters: str,\n",
    "                        start_date: str,\n",
    "                        end_date: str,\n",
    "                        users: str,\n",
    "                        fields: str) -> pd.DataFrame:\n",
    "    \"\"\"Return a dataframe of the sacct output.\"\"\"\n",
    "    cmd = f\"sacct -M {clusters} -X -P -n -S {start_date} -E {end_date} -u {users} -o {fields}\"\n",
    "    output = subprocess.run(cmd,\n",
    "                            stdout=subprocess.PIPE,\n",
    "                            shell=True,\n",
    "                            timeout=100,\n",
    "                            text=True,\n",
    "                            check=True)\n",
    "    rows = [row.split(\"|\") for row in output.stdout.split()]\n",
    "    df = pd.DataFrame(rows)\n",
    "    df.columns = fields.split(\",\")\n",
    "    return df"
   ]
  },
  {
   "cell_type": "code",
   "execution_count": 4,
   "id": "4e4743e4-c709-470d-ab91-84e7b6fc7b77",
   "metadata": {},
   "outputs": [],
   "source": [
    "def clean_dataframe(df):\n",
    "    for col in [\"elapsedraw\", \"start\", \"eligible\"]:\n",
    "        df = df[pd.notna(df[col])]\n",
    "        df = df[df[col].str.isnumeric()]\n",
    "        df[col] = df[col].astype(\"int64\")\n",
    "    df = df[df.elapsedraw > 0]\n",
    "    df.cputimeraw = df.cputimeraw.astype(\"int64\")\n",
    "    return df"
   ]
  },
  {
   "cell_type": "code",
   "execution_count": 5,
   "id": "d4b06d7a-6918-4fef-b17d-3d5bf71bd5fd",
   "metadata": {},
   "outputs": [],
   "source": [
    "users = \"yp1065,yongickc,fanc,jj2075,hw1538,zl8026,sc2097,ss0410,wc1202,mk3254,ak9088,tianhaol\"\n",
    "fields = \"user,cputimeraw,elapsedraw,start,eligible\""
   ]
  },
  {
   "cell_type": "code",
   "execution_count": 6,
   "id": "71a43c7e-1576-4c70-b5d0-795225a8567c",
   "metadata": {},
   "outputs": [
    {
     "name": "stdout",
     "output_type": "stream",
     "text": [
      "start end Q-hours CPU-hours\n",
      "2024-01-01 2024-01-31 13077 122529\n",
      "2024-02-01 2024-02-29 29504 208377\n",
      "2024-03-01 2024-03-31 92142 297380\n",
      "2024-04-01 2024-04-30 137545 317626\n",
      "2024-05-01 2024-05-31 55810 376075\n",
      "2024-06-01 2024-06-30 44560 259683\n",
      "2024-07-01 2024-07-31 90770 390156\n"
     ]
    }
   ],
   "source": [
    "print(\"start\", \"end\", \"Q-hours\", \"CPU-hours\")\n",
    "for i in range(1, 8):\n",
    "    end_day = monthrange(2024, i)[1]\n",
    "    s = f\"2024-0{i}-01\"\n",
    "    e = f\"2024-0{i}-{end_day}\"\n",
    "    df = get_data_from_sacct(\"della\", s, e, users, fields)\n",
    "    df = clean_dataframe(df)\n",
    "    df[\"q-seconds\"] = df.start - df.eligible\n",
    "    print(s, e, round(df[\"q-seconds\"].sum() / 3600), round(df[\"cputimeraw\"].sum() / 3600))\n",
    "    #print(df.groupby(\"user\").agg({\"q-seconds\":sum}))"
   ]
  }
 ],
 "metadata": {
  "kernelspec": {
   "display_name": "Python 3 (ipykernel)",
   "language": "python",
   "name": "python3"
  },
  "language_info": {
   "codemirror_mode": {
    "name": "ipython",
    "version": 3
   },
   "file_extension": ".py",
   "mimetype": "text/x-python",
   "name": "python",
   "nbconvert_exporter": "python",
   "pygments_lexer": "ipython3",
   "version": "3.12.4"
  }
 },
 "nbformat": 4,
 "nbformat_minor": 5
}
