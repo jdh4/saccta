{
 "cells": [
  {
   "cell_type": "markdown",
   "id": "0529c814-19e2-40f3-8ce0-80b9a4abb282",
   "metadata": {},
   "source": [
    "# Should we convert 80GB A100 GPUs into two 40 GB MIG instances?\n",
    "### April 22, 2025"
   ]
  },
  {
   "cell_type": "code",
   "execution_count": 1,
   "id": "ee223f15-d63f-4c99-86e0-0697ba7c264d",
   "metadata": {},
   "outputs": [],
   "source": [
    "import os\n",
    "import re\n",
    "import subprocess\n",
    "import pandas as pd\n",
    "# wget https://raw.githubusercontent.com/PrincetonUniversity/job_defense_shield/refs/heads/main/efficiency.py\n",
    "from efficiency import get_stats_dict\n",
    "from efficiency import get_nodelist\n",
    "from efficiency import cpu_memory_usage\n",
    "from efficiency import gpu_memory_usage_eff_tuples"
   ]
  },
  {
   "cell_type": "code",
   "execution_count": 2,
   "id": "0a2e0d8c-6190-48f9-b2f9-e56fe81069e8",
   "metadata": {},
   "outputs": [],
   "source": [
    "# convert slurm timestamps to seconds\n",
    "os.environ[\"SLURM_TIME_FORMAT\"] = \"%s\""
   ]
  },
  {
   "cell_type": "code",
   "execution_count": 3,
   "id": "1eccad6a-aa69-4236-becd-d8ecf6a37a85",
   "metadata": {},
   "outputs": [],
   "source": [
    "def get_data_from_sacct(clusters: str,\n",
    "                        start_date: str,\n",
    "                        end_date: str,\n",
    "                        partitions: str,\n",
    "                        fields: str) -> pd.DataFrame:\n",
    "    \"\"\"Return a dataframe of the sacct output.\"\"\"\n",
    "    cmd = f\"sacct -M {clusters} -a -X -P -n -S {start_date} -E {end_date} {partitions} -o {fields}\"\n",
    "    output = subprocess.run(cmd,\n",
    "                            stdout=subprocess.PIPE,\n",
    "                            shell=True,\n",
    "                            timeout=100,\n",
    "                            text=True,\n",
    "                            check=True)\n",
    "    rows = [row.split(\"|\") for row in output.stdout.split()]\n",
    "    df = pd.DataFrame(rows)\n",
    "    df.columns = fields.split(\",\")\n",
    "    return df"
   ]
  },
  {
   "cell_type": "markdown",
   "id": "26567c62-bf16-45e8-ada9-85aaa2d111cf",
   "metadata": {},
   "source": [
    "### Ignore \"gputest\" partition since those jobs also run on cryoem"
   ]
  },
  {
   "cell_type": "code",
   "execution_count": 4,
   "id": "c5bf39ec-4275-4dbb-9b3c-81cf644bf575",
   "metadata": {},
   "outputs": [],
   "source": [
    "clusters = \"della\"\n",
    "partitions = f\"-r cryoem\"\n",
    "start_date = \"2025-01-01\"\n",
    "end_date = \"now\"\n",
    "fields = \"jobid,cluster,user,alloctres,elapsedraw,admincomment,ncpus\"\n",
    "df = get_data_from_sacct(clusters, start_date, end_date, partitions, fields)"
   ]
  },
  {
   "cell_type": "code",
   "execution_count": 5,
   "id": "2dff88c1-300d-480c-acb8-f4f0ed402817",
   "metadata": {},
   "outputs": [],
   "source": [
    "df = df[pd.notna(df.elapsedraw)]\n",
    "df = df[df.elapsedraw.str.isnumeric()]\n",
    "df.elapsedraw = df.elapsedraw.astype(\"int64\")\n",
    "df = df[df.elapsedraw > 0]"
   ]
  },
  {
   "cell_type": "code",
   "execution_count": 6,
   "id": "fc57fce7-7637-4600-bd97-4c7d63decb77",
   "metadata": {},
   "outputs": [],
   "source": [
    "df = df[pd.notna(df.ncpus)]\n",
    "df = df[df.ncpus.str.isnumeric()]\n",
    "df.ncpus = df.ncpus.astype(\"int64\")\n",
    "df = df[df.ncpus > 0]"
   ]
  },
  {
   "cell_type": "code",
   "execution_count": 7,
   "id": "f1a21b67-2412-47f9-9448-f112b09a5648",
   "metadata": {},
   "outputs": [],
   "source": [
    "def gpus_per_job(tres: str) -> int:\n",
    "    \"\"\"Return the number of allocated GPUs.\"\"\"\n",
    "    gpus = re.findall(r\"gres/gpu=\\d+\", tres)\n",
    "    return int(gpus[0].replace(\"gres/gpu=\", \"\")) if gpus else 0"
   ]
  },
  {
   "cell_type": "code",
   "execution_count": 8,
   "id": "06a215b9-8fc8-44ab-b461-0505b5de2905",
   "metadata": {},
   "outputs": [],
   "source": [
    "df[\"gpus\"] = df.alloctres.apply(gpus_per_job)"
   ]
  },
  {
   "cell_type": "code",
   "execution_count": 9,
   "id": "4b20dc63-67f3-4456-a10c-ed4091645936",
   "metadata": {},
   "outputs": [],
   "source": [
    "df[\"gpu-seconds\"] = df.apply(lambda row: row[\"elapsedraw\"] * row[\"gpus\"], axis='columns')\n",
    "df[\"gpu-hours\"] = df[\"gpu-seconds\"] / 3600"
   ]
  },
  {
   "cell_type": "code",
   "execution_count": 10,
   "id": "c2e11d55-1c3e-495e-a5d8-ffa54a3053ff",
   "metadata": {},
   "outputs": [],
   "source": [
    "df[\"admincomment\"] = df[\"admincomment\"].apply(get_stats_dict)\n",
    "df[\"node-tuple\"] = df.apply(lambda row: get_nodelist(row[\"admincomment\"],\n",
    "                                                     row[\"jobid\"],\n",
    "                                                     row[\"cluster\"],\n",
    "                                                     verbose=False),\n",
    "                                                     axis=\"columns\")\n",
    "cols = [\"job_nodes\", \"error_code\"]\n",
    "df[cols] = pd.DataFrame(df[\"node-tuple\"].tolist(), index=df.index)\n",
    "df = df[df[\"error_code\"] == 0]\n",
    "df.drop(columns=[\"error_code\"], inplace=True)"
   ]
  },
  {
   "cell_type": "code",
   "execution_count": 11,
   "id": "a64ab0ce-78bb-401f-92f2-47aaf3c1dfef",
   "metadata": {},
   "outputs": [
    {
     "data": {
      "text/html": [
       "<div>\n",
       "<style scoped>\n",
       "    .dataframe tbody tr th:only-of-type {\n",
       "        vertical-align: middle;\n",
       "    }\n",
       "\n",
       "    .dataframe tbody tr th {\n",
       "        vertical-align: top;\n",
       "    }\n",
       "\n",
       "    .dataframe thead th {\n",
       "        text-align: right;\n",
       "    }\n",
       "</style>\n",
       "<table border=\"1\" class=\"dataframe\">\n",
       "  <thead>\n",
       "    <tr style=\"text-align: right;\">\n",
       "      <th></th>\n",
       "      <th>0</th>\n",
       "      <th>1</th>\n",
       "    </tr>\n",
       "  </thead>\n",
       "  <tbody>\n",
       "    <tr>\n",
       "      <th>jobid</th>\n",
       "      <td>61354923</td>\n",
       "      <td>61358355_1303</td>\n",
       "    </tr>\n",
       "    <tr>\n",
       "      <th>cluster</th>\n",
       "      <td>della</td>\n",
       "      <td>della</td>\n",
       "    </tr>\n",
       "    <tr>\n",
       "      <th>user</th>\n",
       "      <td>rf2366</td>\n",
       "      <td>ab50</td>\n",
       "    </tr>\n",
       "    <tr>\n",
       "      <th>alloctres</th>\n",
       "      <td>billing=28,cpu=28,gres/gpu=4,mem=250G,node=1</td>\n",
       "      <td>billing=15,cpu=8,gres/gpu=1,mem=200000M,node=1</td>\n",
       "    </tr>\n",
       "    <tr>\n",
       "      <th>elapsedraw</th>\n",
       "      <td>900318</td>\n",
       "      <td>5849</td>\n",
       "    </tr>\n",
       "    <tr>\n",
       "      <th>admincomment</th>\n",
       "      <td>{'nodes': {'della-l07g5': {'total_memory': 268...</td>\n",
       "      <td>{'nodes': {'della-l07g6': {'total_memory': 209...</td>\n",
       "    </tr>\n",
       "    <tr>\n",
       "      <th>ncpus</th>\n",
       "      <td>28</td>\n",
       "      <td>8</td>\n",
       "    </tr>\n",
       "    <tr>\n",
       "      <th>gpus</th>\n",
       "      <td>4</td>\n",
       "      <td>1</td>\n",
       "    </tr>\n",
       "    <tr>\n",
       "      <th>gpu-seconds</th>\n",
       "      <td>3601272</td>\n",
       "      <td>5849</td>\n",
       "    </tr>\n",
       "    <tr>\n",
       "      <th>gpu-hours</th>\n",
       "      <td>1000.353333</td>\n",
       "      <td>1.624722</td>\n",
       "    </tr>\n",
       "    <tr>\n",
       "      <th>node-tuple</th>\n",
       "      <td>({della-l07g5}, 0)</td>\n",
       "      <td>({della-l07g6}, 0)</td>\n",
       "    </tr>\n",
       "    <tr>\n",
       "      <th>job_nodes</th>\n",
       "      <td>{della-l07g5}</td>\n",
       "      <td>{della-l07g6}</td>\n",
       "    </tr>\n",
       "  </tbody>\n",
       "</table>\n",
       "</div>"
      ],
      "text/plain": [
       "                                                              0  \\\n",
       "jobid                                                  61354923   \n",
       "cluster                                                   della   \n",
       "user                                                     rf2366   \n",
       "alloctres          billing=28,cpu=28,gres/gpu=4,mem=250G,node=1   \n",
       "elapsedraw                                               900318   \n",
       "admincomment  {'nodes': {'della-l07g5': {'total_memory': 268...   \n",
       "ncpus                                                        28   \n",
       "gpus                                                          4   \n",
       "gpu-seconds                                             3601272   \n",
       "gpu-hours                                           1000.353333   \n",
       "node-tuple                                   ({della-l07g5}, 0)   \n",
       "job_nodes                                         {della-l07g5}   \n",
       "\n",
       "                                                              1  \n",
       "jobid                                             61358355_1303  \n",
       "cluster                                                   della  \n",
       "user                                                       ab50  \n",
       "alloctres        billing=15,cpu=8,gres/gpu=1,mem=200000M,node=1  \n",
       "elapsedraw                                                 5849  \n",
       "admincomment  {'nodes': {'della-l07g6': {'total_memory': 209...  \n",
       "ncpus                                                         8  \n",
       "gpus                                                          1  \n",
       "gpu-seconds                                                5849  \n",
       "gpu-hours                                              1.624722  \n",
       "node-tuple                                   ({della-l07g6}, 0)  \n",
       "job_nodes                                         {della-l07g6}  "
      ]
     },
     "execution_count": 11,
     "metadata": {},
     "output_type": "execute_result"
    }
   ],
   "source": [
    "df.head(2).T"
   ]
  },
  {
   "cell_type": "markdown",
   "id": "5057d8af-d7ba-4ac3-8b37-67303269e43a",
   "metadata": {},
   "source": [
    "Ignore V100 jobs"
   ]
  },
  {
   "cell_type": "code",
   "execution_count": 12,
   "id": "643db099-a437-4f1e-afc4-ebb84ad70d57",
   "metadata": {},
   "outputs": [],
   "source": [
    "v100 = [f\"della-l06g{i}\" for i in range(1, 12)] + \\\n",
    "       [\"della-l07g8\", \"della-l07g9\"] + \\\n",
    "       [\"della-l08g8\", \"della-l08g9\"] + \\\n",
    "       [\"della-l09g8\", \"della-l09g9\"]\n",
    "v100 = set(v100)"
   ]
  },
  {
   "cell_type": "code",
   "execution_count": 13,
   "id": "b18576da-926e-4014-a208-fd579c97ef4d",
   "metadata": {},
   "outputs": [],
   "source": [
    "def ran_on_v100(job_nodes: set, v100_nodes: set) -> bool:\n",
    "    diff = job_nodes - v100\n",
    "    return True if len(diff) == 0 else False"
   ]
  },
  {
   "cell_type": "code",
   "execution_count": 14,
   "id": "ad0e639e-8b17-45c9-be07-a1537c098e6c",
   "metadata": {},
   "outputs": [],
   "source": [
    "df[\"v100\"] = df.job_nodes.apply(lambda job_nodes: ran_on_v100(job_nodes, v100))"
   ]
  },
  {
   "cell_type": "code",
   "execution_count": 15,
   "id": "f4111573-219a-4d91-a464-8bb19eb9eb45",
   "metadata": {},
   "outputs": [
    {
     "data": {
      "text/plain": [
       "v100\n",
       "False    53654\n",
       "True     38557\n",
       "Name: count, dtype: int64"
      ]
     },
     "execution_count": 15,
     "metadata": {},
     "output_type": "execute_result"
    }
   ],
   "source": [
    "df.v100.value_counts()"
   ]
  },
  {
   "cell_type": "code",
   "execution_count": 16,
   "id": "a8b3e13e-e02e-4396-a6ea-ff32f29148d9",
   "metadata": {},
   "outputs": [],
   "source": [
    "df = df[~df.v100]"
   ]
  },
  {
   "cell_type": "markdown",
   "id": "c7aee126-8f71-469d-aa06-b5bc2bb6ecff",
   "metadata": {},
   "source": [
    "### Percent Usage of A100 GPUs cryoem"
   ]
  },
  {
   "cell_type": "code",
   "execution_count": 17,
   "id": "a6d82a64-838f-4f09-89ea-f0dbc1805527",
   "metadata": {},
   "outputs": [
    {
     "name": "stdout",
     "output_type": "stream",
     "text": [
      "Percent Usage = 54%\n"
     ]
    }
   ],
   "source": [
    "days = 31 + 28 + 31 + 24  # jan, feb, march, part of april\n",
    "hours_per_day = 24\n",
    "num_gpus = 20 * 4\n",
    "pct_usage = df[\"gpu-hours\"].sum() / (days * hours_per_day * num_gpus)\n",
    "print(f\"Percent Usage = {round(100 * pct_usage)}%\")"
   ]
  },
  {
   "cell_type": "code",
   "execution_count": 18,
   "id": "941ec361-f68e-41aa-9a06-fc559e34c1b5",
   "metadata": {},
   "outputs": [],
   "source": [
    "df[\"gpu-tuple\"] = df.apply(lambda row: gpu_memory_usage_eff_tuples(row[\"admincomment\"],\n",
    "                                                                   row[\"jobid\"],\n",
    "                                                                   row[\"cluster\"],\n",
    "                                                                   verbose=False),\n",
    "                                                                   axis=\"columns\")"
   ]
  },
  {
   "cell_type": "code",
   "execution_count": 19,
   "id": "2af7256f-086c-408f-bf3e-402c0e692e4e",
   "metadata": {},
   "outputs": [],
   "source": [
    "df[\"error_code\"] = df[\"gpu-tuple\"].apply(lambda x: x[1])\n",
    "df = df[df[\"error_code\"] == 0]\n",
    "df[\"GPU-Mem-Used\"] = df[\"gpu-tuple\"].apply(lambda tpl: tpl[0][0][0])\n",
    "df[\"GPU-Util\"]     = df[\"gpu-tuple\"].apply(lambda tpl: tpl[0][0][2])"
   ]
  },
  {
   "cell_type": "code",
   "execution_count": 20,
   "id": "ceafc2fa-865e-413d-adc8-e4add13272f8",
   "metadata": {},
   "outputs": [],
   "source": [
    "df.drop(columns=[\"error_code\"], inplace=True)"
   ]
  },
  {
   "cell_type": "code",
   "execution_count": 21,
   "id": "8b072aff-d4d0-49d7-a9b2-68cdeec6dd5e",
   "metadata": {},
   "outputs": [],
   "source": [
    "df[\"memory-tuple\"] = df.apply(lambda row: cpu_memory_usage(row[\"admincomment\"],\n",
    "                                                           row[\"jobid\"],\n",
    "                                                           row[\"cluster\"],\n",
    "                                                           verbose=False),\n",
    "                                                           axis=\"columns\")\n",
    "cols = [\"CPU-Mem-Used\", \"mem-alloc\", \"error_code\"]\n",
    "df[cols] = pd.DataFrame(df[\"memory-tuple\"].tolist(), index=df.index)\n",
    "df = df[df[\"error_code\"] == 0]"
   ]
  },
  {
   "cell_type": "code",
   "execution_count": 22,
   "id": "7a5b978d-e2f8-4824-8f74-2b2912d32afe",
   "metadata": {},
   "outputs": [],
   "source": [
    "df[\"cores_per_gpu\"] = df.ncpus / df.gpus\n",
    "df[\"CPU-Mem-Used-per-GPU\"] = df[\"CPU-Mem-Used\"] / df.gpus"
   ]
  },
  {
   "cell_type": "code",
   "execution_count": 23,
   "id": "a1095b45-b26b-47ed-8e72-03637dfce829",
   "metadata": {},
   "outputs": [],
   "source": [
    "def max_gpu_mem(tpl):\n",
    "    items, error_code = tpl\n",
    "    return max([item[0] for item in items])"
   ]
  },
  {
   "cell_type": "code",
   "execution_count": 24,
   "id": "6dfdfb2b-111d-45a4-ada4-a53d2ed934be",
   "metadata": {},
   "outputs": [],
   "source": [
    "def max_gpu_util(tpl):\n",
    "    items, error_code = tpl\n",
    "    return max([item[2] for item in items])"
   ]
  },
  {
   "cell_type": "code",
   "execution_count": 25,
   "id": "b555a70f-20e8-4eed-853d-0faf425bcd57",
   "metadata": {},
   "outputs": [],
   "source": [
    "df[\"max_gpu_mem\"]  = df[\"gpu-tuple\"].apply(max_gpu_mem)\n",
    "df[\"max_gpu_util\"] = df[\"gpu-tuple\"].apply(max_gpu_util)"
   ]
  },
  {
   "cell_type": "code",
   "execution_count": 26,
   "id": "a72e57b7-4734-48bf-aab8-5bcfc5af6416",
   "metadata": {},
   "outputs": [
    {
     "data": {
      "text/html": [
       "<div>\n",
       "<style scoped>\n",
       "    .dataframe tbody tr th:only-of-type {\n",
       "        vertical-align: middle;\n",
       "    }\n",
       "\n",
       "    .dataframe tbody tr th {\n",
       "        vertical-align: top;\n",
       "    }\n",
       "\n",
       "    .dataframe thead th {\n",
       "        text-align: right;\n",
       "    }\n",
       "</style>\n",
       "<table border=\"1\" class=\"dataframe\">\n",
       "  <thead>\n",
       "    <tr style=\"text-align: right;\">\n",
       "      <th></th>\n",
       "      <th>0</th>\n",
       "      <th>669</th>\n",
       "    </tr>\n",
       "  </thead>\n",
       "  <tbody>\n",
       "    <tr>\n",
       "      <th>jobid</th>\n",
       "      <td>61354923</td>\n",
       "      <td>61364300</td>\n",
       "    </tr>\n",
       "    <tr>\n",
       "      <th>cluster</th>\n",
       "      <td>della</td>\n",
       "      <td>della</td>\n",
       "    </tr>\n",
       "    <tr>\n",
       "      <th>user</th>\n",
       "      <td>rf2366</td>\n",
       "      <td>yz6956</td>\n",
       "    </tr>\n",
       "    <tr>\n",
       "      <th>alloctres</th>\n",
       "      <td>billing=28,cpu=28,gres/gpu=4,mem=250G,node=1</td>\n",
       "      <td>billing=61,cpu=16,gres/gpu=4,mem=768G,node=1</td>\n",
       "    </tr>\n",
       "    <tr>\n",
       "      <th>elapsedraw</th>\n",
       "      <td>900318</td>\n",
       "      <td>116792</td>\n",
       "    </tr>\n",
       "    <tr>\n",
       "      <th>admincomment</th>\n",
       "      <td>{'nodes': {'della-l07g5': {'total_memory': 268...</td>\n",
       "      <td>{'nodes': {'della-l08g5': {'total_memory': 824...</td>\n",
       "    </tr>\n",
       "    <tr>\n",
       "      <th>ncpus</th>\n",
       "      <td>28</td>\n",
       "      <td>16</td>\n",
       "    </tr>\n",
       "    <tr>\n",
       "      <th>gpus</th>\n",
       "      <td>4</td>\n",
       "      <td>4</td>\n",
       "    </tr>\n",
       "    <tr>\n",
       "      <th>gpu-seconds</th>\n",
       "      <td>3601272</td>\n",
       "      <td>467168</td>\n",
       "    </tr>\n",
       "    <tr>\n",
       "      <th>gpu-hours</th>\n",
       "      <td>1000.353333</td>\n",
       "      <td>129.768889</td>\n",
       "    </tr>\n",
       "    <tr>\n",
       "      <th>node-tuple</th>\n",
       "      <td>({della-l07g5}, 0)</td>\n",
       "      <td>({della-l08g5}, 0)</td>\n",
       "    </tr>\n",
       "    <tr>\n",
       "      <th>job_nodes</th>\n",
       "      <td>{della-l07g5}</td>\n",
       "      <td>{della-l08g5}</td>\n",
       "    </tr>\n",
       "    <tr>\n",
       "      <th>v100</th>\n",
       "      <td>False</td>\n",
       "      <td>False</td>\n",
       "    </tr>\n",
       "    <tr>\n",
       "      <th>gpu-tuple</th>\n",
       "      <td>([(61.9, 80.0, 94.6), (61.9, 80.0, 96.6), (61....</td>\n",
       "      <td>([(64.5, 80.0, 95.9), (71.2, 80.0, 95.9), (66....</td>\n",
       "    </tr>\n",
       "    <tr>\n",
       "      <th>GPU-Mem-Used</th>\n",
       "      <td>61.9</td>\n",
       "      <td>64.5</td>\n",
       "    </tr>\n",
       "    <tr>\n",
       "      <th>GPU-Util</th>\n",
       "      <td>94.6</td>\n",
       "      <td>95.9</td>\n",
       "    </tr>\n",
       "    <tr>\n",
       "      <th>memory-tuple</th>\n",
       "      <td>(181.0, 250.0, 0)</td>\n",
       "      <td>(255.0, 768.0, 0)</td>\n",
       "    </tr>\n",
       "    <tr>\n",
       "      <th>CPU-Mem-Used</th>\n",
       "      <td>181.0</td>\n",
       "      <td>255.0</td>\n",
       "    </tr>\n",
       "    <tr>\n",
       "      <th>mem-alloc</th>\n",
       "      <td>250.0</td>\n",
       "      <td>768.0</td>\n",
       "    </tr>\n",
       "    <tr>\n",
       "      <th>error_code</th>\n",
       "      <td>0</td>\n",
       "      <td>0</td>\n",
       "    </tr>\n",
       "    <tr>\n",
       "      <th>cores_per_gpu</th>\n",
       "      <td>7.0</td>\n",
       "      <td>4.0</td>\n",
       "    </tr>\n",
       "    <tr>\n",
       "      <th>CPU-Mem-Used-per-GPU</th>\n",
       "      <td>45.25</td>\n",
       "      <td>63.75</td>\n",
       "    </tr>\n",
       "    <tr>\n",
       "      <th>max_gpu_mem</th>\n",
       "      <td>61.9</td>\n",
       "      <td>71.2</td>\n",
       "    </tr>\n",
       "    <tr>\n",
       "      <th>max_gpu_util</th>\n",
       "      <td>97.0</td>\n",
       "      <td>96.0</td>\n",
       "    </tr>\n",
       "  </tbody>\n",
       "</table>\n",
       "</div>"
      ],
      "text/plain": [
       "                                                                    0    \\\n",
       "jobid                                                          61354923   \n",
       "cluster                                                           della   \n",
       "user                                                             rf2366   \n",
       "alloctres                  billing=28,cpu=28,gres/gpu=4,mem=250G,node=1   \n",
       "elapsedraw                                                       900318   \n",
       "admincomment          {'nodes': {'della-l07g5': {'total_memory': 268...   \n",
       "ncpus                                                                28   \n",
       "gpus                                                                  4   \n",
       "gpu-seconds                                                     3601272   \n",
       "gpu-hours                                                   1000.353333   \n",
       "node-tuple                                           ({della-l07g5}, 0)   \n",
       "job_nodes                                                 {della-l07g5}   \n",
       "v100                                                              False   \n",
       "gpu-tuple             ([(61.9, 80.0, 94.6), (61.9, 80.0, 96.6), (61....   \n",
       "GPU-Mem-Used                                                       61.9   \n",
       "GPU-Util                                                           94.6   \n",
       "memory-tuple                                          (181.0, 250.0, 0)   \n",
       "CPU-Mem-Used                                                      181.0   \n",
       "mem-alloc                                                         250.0   \n",
       "error_code                                                            0   \n",
       "cores_per_gpu                                                       7.0   \n",
       "CPU-Mem-Used-per-GPU                                              45.25   \n",
       "max_gpu_mem                                                        61.9   \n",
       "max_gpu_util                                                       97.0   \n",
       "\n",
       "                                                                    669  \n",
       "jobid                                                          61364300  \n",
       "cluster                                                           della  \n",
       "user                                                             yz6956  \n",
       "alloctres                  billing=61,cpu=16,gres/gpu=4,mem=768G,node=1  \n",
       "elapsedraw                                                       116792  \n",
       "admincomment          {'nodes': {'della-l08g5': {'total_memory': 824...  \n",
       "ncpus                                                                16  \n",
       "gpus                                                                  4  \n",
       "gpu-seconds                                                      467168  \n",
       "gpu-hours                                                    129.768889  \n",
       "node-tuple                                           ({della-l08g5}, 0)  \n",
       "job_nodes                                                 {della-l08g5}  \n",
       "v100                                                              False  \n",
       "gpu-tuple             ([(64.5, 80.0, 95.9), (71.2, 80.0, 95.9), (66....  \n",
       "GPU-Mem-Used                                                       64.5  \n",
       "GPU-Util                                                           95.9  \n",
       "memory-tuple                                          (255.0, 768.0, 0)  \n",
       "CPU-Mem-Used                                                      255.0  \n",
       "mem-alloc                                                         768.0  \n",
       "error_code                                                            0  \n",
       "cores_per_gpu                                                       4.0  \n",
       "CPU-Mem-Used-per-GPU                                              63.75  \n",
       "max_gpu_mem                                                        71.2  \n",
       "max_gpu_util                                                       96.0  "
      ]
     },
     "execution_count": 26,
     "metadata": {},
     "output_type": "execute_result"
    }
   ],
   "source": [
    "df[df.gpus > 1].head(2).T"
   ]
  },
  {
   "cell_type": "markdown",
   "id": "4cb1f743-b7e7-4995-a04c-833c67dc9661",
   "metadata": {},
   "source": [
    "The nodes with 80 GB A100's have 1000 GB of CPU memory, 48 cores and 4 GPUs. If split in half then would have 6 cores per GPU, 125 GB of CPU memory and 40 GB of GPU memory. The percentage of the GPU-hours that could run on these instances is:"
   ]
  },
  {
   "cell_type": "code",
   "execution_count": 27,
   "id": "5bf3e262-69a7-45a0-b952-513d2410d273",
   "metadata": {},
   "outputs": [
    {
     "data": {
      "text/plain": [
       "31.009093079624563"
      ]
     },
     "execution_count": 27,
     "metadata": {},
     "output_type": "execute_result"
    }
   ],
   "source": [
    "100 * df[df[\"max_gpu_util\"] <= 50][\"gpu-seconds\"].sum() / df[\"gpu-seconds\"].sum()"
   ]
  },
  {
   "cell_type": "code",
   "execution_count": 28,
   "id": "7cc75d7c-798a-4634-a67b-f7e988081e09",
   "metadata": {},
   "outputs": [
    {
     "data": {
      "text/plain": [
       "68.99090692037544"
      ]
     },
     "execution_count": 28,
     "metadata": {},
     "output_type": "execute_result"
    }
   ],
   "source": [
    "100 * df[df[\"max_gpu_util\"] > 50][\"gpu-seconds\"].sum() / df[\"gpu-seconds\"].sum()"
   ]
  },
  {
   "cell_type": "code",
   "execution_count": 29,
   "id": "369c4f11-5e70-4af3-ae15-1c85668688d8",
   "metadata": {},
   "outputs": [
    {
     "data": {
      "text/plain": [
       "61.182203523460736"
      ]
     },
     "execution_count": 29,
     "metadata": {},
     "output_type": "execute_result"
    }
   ],
   "source": [
    "# mean utilization\n",
    "df[\"util_times_seconds\"] = df[\"max_gpu_util\"] * df[\"gpu-seconds\"]\n",
    "df[\"gpu_mem_times_hours\"] = df[\"max_gpu_mem\"] * df[\"gpu-hours\"]\n",
    "df[\"util_times_seconds\"].sum() / df[\"gpu-seconds\"].sum()"
   ]
  },
  {
   "cell_type": "code",
   "execution_count": 30,
   "id": "2902f3e7-ac93-43b1-bae0-99ff9501c2e6",
   "metadata": {},
   "outputs": [
    {
     "name": "stdout",
     "output_type": "stream",
     "text": [
      "       user  gpu-hours  proportion  mean_gpu_mem_GB\n",
      "1      jy15      39809        0.33               41\n",
      "2    zx8205      20617        0.17               19\n",
      "3      ab50      18577        0.16               61\n",
      "4    yz6956      11956        0.10               41\n",
      "5    rf2366       7787        0.07               62\n",
      "6    mg2332       5507        0.05               28\n",
      "7    mj7341       3658        0.03               32\n",
      "8     aelin       2021        0.02               61\n",
      "9    fa1073       1541        0.01               45\n",
      "10   mg6942       1536        0.01               63\n",
      "11   jg0428       1220        0.01               61\n",
      "12  gghanim       1190        0.01               78\n",
      "13   jg1427       1172        0.01               38\n",
      "14   an3411        807        0.01               61\n",
      "15  jiaweim        552        0.00               49\n",
      "16  stravis        429        0.00               25\n",
      "17   cryoem        207        0.00                8\n",
      "18   la4139        109        0.00               61\n",
      "19   ar5531        106        0.00               14\n",
      "20   rraghu        103        0.00                4\n",
      "21   ks1495         52        0.00                3\n",
      "22   sx7392         52        0.00               73\n",
      "23   cy7425         47        0.00               41\n",
      "24   al3550         47        0.00                4\n",
      "25   jb0597         34        0.00               61\n",
      "26     akaz         24        0.00                6\n",
      "27   pm1037         24        0.00               26\n",
      "28   adelep         15        0.00               62\n",
      "29   wj9138         10        0.00                8\n",
      "30    mcahn          8        0.00               62\n",
      "31   rh1732          3        0.00               17\n",
      "32   em2768          2        0.00                2\n",
      "33   hw5449          2        0.00               17\n",
      "34   ac1180          1        0.00               61\n",
      "35   ez5555          1        0.00                1\n",
      "36     aes5          0        0.00                1\n"
     ]
    }
   ],
   "source": [
    "gp = df.groupby(\"user\").agg({\"gpu-hours\":\"sum\", \"gpu_mem_times_hours\":\"sum\"}).reset_index()\n",
    "gp[\"mean_gpu_mem_GB\"] = gp[\"gpu_mem_times_hours\"] / gp[\"gpu-hours\"] \n",
    "gp.columns = [\"user\", \"gpu-hours\", \"mem_weight\", \"mean_gpu_mem_GB\"]\n",
    "gp[\"proportion\"] = gp[\"gpu-hours\"] / gp[\"gpu-hours\"].sum()\n",
    "gp[\"proportion\"] = gp[\"proportion\"].apply(lambda x: round(x, 2))\n",
    "gp[\"gpu-hours\"] = gp[\"gpu-hours\"].apply(round)\n",
    "gp[\"mean_gpu_mem_GB\"] = gp[\"mean_gpu_mem_GB\"].apply(round)\n",
    "x = gp[[\"user\", \"gpu-hours\", \"proportion\", \"mean_gpu_mem_GB\"]].sort_values(\"gpu-hours\", ascending=False).reset_index(drop=True)\n",
    "x.index += 1\n",
    "print(x)"
   ]
  },
  {
   "cell_type": "code",
   "execution_count": 31,
   "id": "628909aa-261e-418b-8906-29b61a9c7897",
   "metadata": {},
   "outputs": [],
   "source": [
    "df[\"gpu-hours\"] = df[\"gpu-hours\"].apply(lambda x: round(x, 1))"
   ]
  },
  {
   "cell_type": "code",
   "execution_count": 32,
   "id": "fe72d136-089b-4c91-9bd7-84fda0a722d4",
   "metadata": {},
   "outputs": [],
   "source": [
    "df[df[\"gpu-seconds\"] > 0][[\"jobid\", \"user\", \"gpu-hours\", \"gpus\", \"max_gpu_mem\"]].to_csv(\"cryoem_gpu_mem_jan1_apr25.csv\", index=False)"
   ]
  },
  {
   "cell_type": "code",
   "execution_count": 33,
   "id": "9ad6d193-5eb0-484f-aa11-657becab36dd",
   "metadata": {},
   "outputs": [
    {
     "name": "stdout",
     "output_type": "stream",
     "text": [
      "Percentage of GPU-hours that could run on 40 GB GPUs = 23%\n"
     ]
    }
   ],
   "source": [
    "gpu_hrs = df[(df[\"max_gpu_mem\"] < 40)][\"gpu-hours\"].sum()\n",
    "pct = f\"Percentage of GPU-hours that could run on 40 GB GPUs = {round(100 * gpu_hrs / (days * hours_per_day * num_gpus))}%\"\n",
    "print(pct)"
   ]
  },
  {
   "cell_type": "code",
   "execution_count": 34,
   "id": "c2759868-1d8d-44a3-a28f-32e3236107c0",
   "metadata": {},
   "outputs": [
    {
     "name": "stdout",
     "output_type": "stream",
     "text": [
      "Percentage of GPU-hours that could run on 40 GB MIG instance (ignoring utilization) = 20%\n"
     ]
    }
   ],
   "source": [
    "gpu_hrs = df[(df[\"cores_per_gpu\"] <= 6) & (df[\"CPU-Mem-Used-per-GPU\"] < 125) & (df[\"max_gpu_mem\"] < 40)][\"gpu-hours\"].sum()\n",
    "pct = f\"Percentage of GPU-hours that could run on 40 GB MIG instance (ignoring utilization) = {round(100 * gpu_hrs / (days * hours_per_day * num_gpus))}%\"\n",
    "print(pct)"
   ]
  },
  {
   "cell_type": "code",
   "execution_count": 35,
   "id": "69919ccd-9c60-4f0b-b1b5-baf116efe5e0",
   "metadata": {},
   "outputs": [
    {
     "name": "stdout",
     "output_type": "stream",
     "text": [
      "Percentage of GPU-hours that could run on 40 GB MIG instance = 3%\n"
     ]
    }
   ],
   "source": [
    "gpu_hrs = df[(df[\"cores_per_gpu\"] <= 6) & (df[\"CPU-Mem-Used-per-GPU\"] < 125) & (df[\"max_gpu_util\"] < 50) & (df[\"max_gpu_mem\"] < 40)][\"gpu-hours\"].sum()\n",
    "pct = f\"Percentage of GPU-hours that could run on 40 GB MIG instance = {round(100 * gpu_hrs / (days * hours_per_day * num_gpus))}%\"\n",
    "print(pct)"
   ]
  }
 ],
 "metadata": {
  "kernelspec": {
   "display_name": "Python 3 (ipykernel)",
   "language": "python",
   "name": "python3"
  },
  "language_info": {
   "codemirror_mode": {
    "name": "ipython",
    "version": 3
   },
   "file_extension": ".py",
   "mimetype": "text/x-python",
   "name": "python",
   "nbconvert_exporter": "python",
   "pygments_lexer": "ipython3",
   "version": "3.12.7"
  }
 },
 "nbformat": 4,
 "nbformat_minor": 5
}
