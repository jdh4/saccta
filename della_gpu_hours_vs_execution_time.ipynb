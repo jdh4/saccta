{
 "cells": [
  {
   "cell_type": "markdown",
   "id": "1e0b6ade-2e8e-4b9b-a368-987543f57d9a",
   "metadata": {},
   "source": [
    "# GPU-Hours vs. Execution Time"
   ]
  },
  {
   "cell_type": "markdown",
   "id": "ab34054e-7bbc-4e21-9545-0ae618c8c461",
   "metadata": {},
   "source": [
    "This notebook helps to decide how to use the idle cryoem nodes. (Dec 19, 2024)"
   ]
  },
  {
   "cell_type": "code",
   "execution_count": 1,
   "id": "53021909-a02c-4459-b8e6-1937958728f2",
   "metadata": {},
   "outputs": [],
   "source": [
    "import os\n",
    "import re\n",
    "import subprocess\n",
    "import pandas as pd\n",
    "import matplotlib.pyplot as plt"
   ]
  },
  {
   "cell_type": "code",
   "execution_count": 2,
   "id": "86640bfd-3c06-4e09-b143-8f8fff7c0853",
   "metadata": {},
   "outputs": [],
   "source": [
    "os.environ[\"SLURM_TIME_FORMAT\"] = \"%s\""
   ]
  },
  {
   "cell_type": "code",
   "execution_count": 3,
   "id": "2fec82d2-c291-4a26-8f12-850eb14f20b0",
   "metadata": {},
   "outputs": [],
   "source": [
    "def get_data_from_sacct(clusters: str,\n",
    "                        start_date: str,\n",
    "                        end_date: str,\n",
    "                        partitions: str,\n",
    "                        fields: str) -> pd.DataFrame:\n",
    "    \"\"\"Return a dataframe of the sacct output.\"\"\"\n",
    "    cmd = f\"sacct -M {clusters} -r {partitions} -X -P -n -S {start_date} -E {end_date} -a -o {fields}\"\n",
    "    print(cmd)\n",
    "    output = subprocess.run(cmd,\n",
    "                            stdout=subprocess.PIPE,\n",
    "                            shell=True,\n",
    "                            timeout=100,\n",
    "                            text=True,\n",
    "                            check=True)\n",
    "    rows = [row.split(\"|\") for row in output.stdout.split()]\n",
    "    df = pd.DataFrame(rows)\n",
    "    df.columns = fields.split(\",\")\n",
    "    return df"
   ]
  },
  {
   "cell_type": "code",
   "execution_count": 4,
   "id": "4e4743e4-c709-470d-ab91-84e7b6fc7b77",
   "metadata": {},
   "outputs": [],
   "source": [
    "def clean_dataframe(df):\n",
    "    col = \"elapsedraw\"\n",
    "    df = df[pd.notna(df[col])]\n",
    "    df = df[df[col].str.isnumeric()]\n",
    "    df[col] = df[col].astype(\"int64\")\n",
    "    df = df[df[col] > 0]\n",
    "    df = df[pd.notna(df[\"alloctres\"]) & df[\"alloctres\"].str.contains(\"gres/gpu=\")]\n",
    "    return df"
   ]
  },
  {
   "cell_type": "code",
   "execution_count": 5,
   "id": "71a43c7e-1576-4c70-b5d0-795225a8567c",
   "metadata": {},
   "outputs": [
    {
     "name": "stdout",
     "output_type": "stream",
     "text": [
      "sacct -M della -r gpu,gpu-shared,gputest -X -P -n -S 2024-06-01T00:00:00 -E now -a -o user,elapsedraw,alloctres\n"
     ]
    }
   ],
   "source": [
    "s = \"2024-06-01T00:00:00\"\n",
    "e = \"now\"\n",
    "partitions = \"gpu,gpu-shared,gputest\"\n",
    "fields = \"user,elapsedraw,alloctres\"\n",
    "df = get_data_from_sacct(\"della\", s, e, partitions, fields)    "
   ]
  },
  {
   "cell_type": "code",
   "execution_count": 6,
   "id": "38afc21b-95fa-4f3b-b7ce-1da326fda70b",
   "metadata": {},
   "outputs": [],
   "source": [
    "df = clean_dataframe(df)"
   ]
  },
  {
   "cell_type": "code",
   "execution_count": 7,
   "id": "3e9e18f2-fe1b-44ad-8130-9e776687f540",
   "metadata": {},
   "outputs": [],
   "source": [
    "def gpus_per_job(tres: str) -> int:\n",
    "    \"\"\"Return the number of allocated GPUs.\"\"\"\n",
    "    gpus = re.findall(r\"gres/gpu=\\d+\", tres)\n",
    "    return int(gpus[0].replace(\"gres/gpu=\", \"\")) if gpus else 0"
   ]
  },
  {
   "cell_type": "code",
   "execution_count": 8,
   "id": "ff85c042-030a-4d93-adab-aa469d28587e",
   "metadata": {},
   "outputs": [],
   "source": [
    "df[\"gpus_per_job\"] = df[\"alloctres\"].apply(gpus_per_job)\n",
    "df[\"gpu-hours\"] = df[\"gpus_per_job\"] * df[\"elapsedraw\"] / 3600"
   ]
  },
  {
   "cell_type": "code",
   "execution_count": 9,
   "id": "90b06922-1c4e-4618-80d1-780ec767cf8f",
   "metadata": {},
   "outputs": [],
   "source": [
    "df[\"elapsed-hours\"] = round(df[\"elapsedraw\"] / 3600)\n",
    "df[\"elapsed-hours\"] = df[\"elapsed-hours\"].astype(\"int64\")"
   ]
  },
  {
   "cell_type": "code",
   "execution_count": 10,
   "id": "8eea2bd8-30eb-4bee-a4ae-9394e4e7c87c",
   "metadata": {},
   "outputs": [
    {
     "data": {
      "text/html": [
       "<div>\n",
       "<style scoped>\n",
       "    .dataframe tbody tr th:only-of-type {\n",
       "        vertical-align: middle;\n",
       "    }\n",
       "\n",
       "    .dataframe tbody tr th {\n",
       "        vertical-align: top;\n",
       "    }\n",
       "\n",
       "    .dataframe thead th {\n",
       "        text-align: right;\n",
       "    }\n",
       "</style>\n",
       "<table border=\"1\" class=\"dataframe\">\n",
       "  <thead>\n",
       "    <tr style=\"text-align: right;\">\n",
       "      <th></th>\n",
       "      <th>user</th>\n",
       "      <th>elapsedraw</th>\n",
       "      <th>alloctres</th>\n",
       "      <th>gpus_per_job</th>\n",
       "      <th>gpu-hours</th>\n",
       "      <th>elapsed-hours</th>\n",
       "    </tr>\n",
       "  </thead>\n",
       "  <tbody>\n",
       "    <tr>\n",
       "      <th>0</th>\n",
       "      <td>rm3395</td>\n",
       "      <td>259500</td>\n",
       "      <td>billing=20971,cpu=16,gres/gpu=16,mem=256G,node=4</td>\n",
       "      <td>16</td>\n",
       "      <td>1153.333333</td>\n",
       "      <td>72</td>\n",
       "    </tr>\n",
       "    <tr>\n",
       "      <th>1</th>\n",
       "      <td>rm3395</td>\n",
       "      <td>174789</td>\n",
       "      <td>billing=20971,cpu=16,gres/gpu=16,mem=256G,node=4</td>\n",
       "      <td>16</td>\n",
       "      <td>776.840000</td>\n",
       "      <td>49</td>\n",
       "    </tr>\n",
       "    <tr>\n",
       "      <th>2</th>\n",
       "      <td>rm3395</td>\n",
       "      <td>169049</td>\n",
       "      <td>billing=12288,cpu=1,gres/gpu=1,mem=150G,node=1</td>\n",
       "      <td>1</td>\n",
       "      <td>46.958056</td>\n",
       "      <td>47</td>\n",
       "    </tr>\n",
       "    <tr>\n",
       "      <th>3</th>\n",
       "      <td>rm3395</td>\n",
       "      <td>259292</td>\n",
       "      <td>billing=5242,cpu=4,gres/gpu=4,mem=64G,node=1</td>\n",
       "      <td>4</td>\n",
       "      <td>288.102222</td>\n",
       "      <td>72</td>\n",
       "    </tr>\n",
       "    <tr>\n",
       "      <th>4</th>\n",
       "      <td>jweis</td>\n",
       "      <td>83761</td>\n",
       "      <td>billing=2560,cpu=8,gres/gpu=1,mem=32000M,node=1</td>\n",
       "      <td>1</td>\n",
       "      <td>23.266944</td>\n",
       "      <td>23</td>\n",
       "    </tr>\n",
       "  </tbody>\n",
       "</table>\n",
       "</div>"
      ],
      "text/plain": [
       "     user  elapsedraw                                         alloctres  \\\n",
       "0  rm3395      259500  billing=20971,cpu=16,gres/gpu=16,mem=256G,node=4   \n",
       "1  rm3395      174789  billing=20971,cpu=16,gres/gpu=16,mem=256G,node=4   \n",
       "2  rm3395      169049    billing=12288,cpu=1,gres/gpu=1,mem=150G,node=1   \n",
       "3  rm3395      259292      billing=5242,cpu=4,gres/gpu=4,mem=64G,node=1   \n",
       "4   jweis       83761   billing=2560,cpu=8,gres/gpu=1,mem=32000M,node=1   \n",
       "\n",
       "   gpus_per_job    gpu-hours  elapsed-hours  \n",
       "0            16  1153.333333             72  \n",
       "1            16   776.840000             49  \n",
       "2             1    46.958056             47  \n",
       "3             4   288.102222             72  \n",
       "4             1    23.266944             23  "
      ]
     },
     "execution_count": 10,
     "metadata": {},
     "output_type": "execute_result"
    }
   ],
   "source": [
    "df.head()"
   ]
  },
  {
   "cell_type": "markdown",
   "id": "16cb63c6-7beb-4d01-9e38-43b932e02f01",
   "metadata": {},
   "source": [
    "## Overall Usage"
   ]
  },
  {
   "cell_type": "markdown",
   "id": "18533b00-4d54-4d84-80f3-2c3753dc1f5a",
   "metadata": {},
   "source": [
    "Hard to choose gpus below since the nodes are shared between gpu and cryoem for gpu-test and gpu-shared."
   ]
  },
  {
   "cell_type": "code",
   "execution_count": 11,
   "id": "7d0ce965-7be7-4b60-b532-7c1c8e06304b",
   "metadata": {},
   "outputs": [
    {
     "data": {
      "text/plain": [
       "0.9984166479919596"
      ]
     },
     "execution_count": 11,
     "metadata": {},
     "output_type": "execute_result"
    }
   ],
   "source": [
    "days = 6 * 30.5 + 19\n",
    "hours_per_day = 24\n",
    "gpus = 324\n",
    "overall_usage = df[\"gpu-hours\"].sum() / (days * hours_per_day * gpus)\n",
    "overall_usage"
   ]
  },
  {
   "cell_type": "markdown",
   "id": "a70d7e1f-151a-4051-b5c5-ad7cd3307eaf",
   "metadata": {},
   "source": [
    "## Elasped hours per Job vs. GPU-Hours"
   ]
  },
  {
   "cell_type": "code",
   "execution_count": 12,
   "id": "f5d190ba-b7b0-4b20-89ec-8a782027019a",
   "metadata": {},
   "outputs": [
    {
     "name": "stdout",
     "output_type": "stream",
     "text": [
      " elapsed-hours  gpu-hours  proportion(%)  users\n",
      "       0          45613         2.9       537  \n",
      "       1         123817         7.9       437  \n",
      "       2          74920         4.8       318  \n",
      "       3          53157         3.4       255  \n",
      "       4          32846         2.1       222  \n",
      "       5          37946         2.4       200  \n",
      "       6          44172         2.8       185  \n",
      "       7          20784         1.3       164  \n",
      "       8          29754         1.9       162  \n",
      "       9          29274         1.9       150  \n",
      "      10          21796         1.4       148  \n",
      "      11          24402         1.6       117  \n",
      "      12          36949         2.4       145  \n",
      "      13          17047         1.1        93  \n",
      "      14          52978         3.4        87  \n",
      "      15          59536         3.8       102  \n",
      "      16          18917         1.2        95  \n",
      "      17          16021         1.0        84  \n",
      "      18          20021         1.3        76  \n",
      "      19          18916         1.2        82  \n",
      "      20          81073         5.2        76  \n",
      "      21          33360         2.1        70  \n",
      "      22          25372         1.6        67  \n",
      "      23          15453         1.0        67  \n",
      "      24         183924        11.7       114  \n",
      "      25           3380         0.2        31  \n",
      "      26           2816         0.2        24  \n",
      "      27           4474         0.3        33  \n",
      "      28           2909         0.2        32  \n",
      "      29           2604         0.2        25  \n",
      "      30           4963         0.3        31  \n",
      "      31           5912         0.4        26  \n",
      "      32           4317         0.3        31  \n",
      "      33           2975         0.2        20  \n",
      "      34           1602         0.1        18  \n",
      "      35           2098         0.1        23  \n",
      "      36           3031         0.2        16  \n",
      "      37           2669         0.2        17  \n",
      "      38           6521         0.4        23  \n",
      "      39           3616         0.2        20  \n",
      "      40           4081         0.3        24  \n",
      "      41           1804         0.1        14  \n",
      "      42           3609         0.2        16  \n",
      "      43           3228         0.2        24  \n",
      "      44           2466         0.2        15  \n",
      "      45           3054         0.2        18  \n",
      "      46           3455         0.2        19  \n",
      "      47           2020         0.1        16  \n",
      "      48          20287         1.3        45  \n",
      "      49           3419         0.2        18  \n",
      "      50           2501         0.2        17  \n",
      "      51           1429         0.1        12  \n",
      "      52           2183         0.1         9  \n",
      "      53           2116         0.1         6  \n",
      "      54           2212         0.1         9  \n",
      "      55           1871         0.1        12  \n",
      "      56           3303         0.2        10  \n",
      "      57           1826         0.1        11  \n",
      "      58           2671         0.2        13  \n",
      "      59           1414         0.1        11  \n",
      "      60           2942         0.2        14  \n",
      "      61           1403         0.1         6  \n",
      "      62           1675         0.1         9  \n",
      "      63           1514         0.1         8  \n",
      "      64           2877         0.2        12  \n",
      "      65           2082         0.1         9  \n",
      "      66           2305         0.1        10  \n",
      "      67           2680         0.2         9  \n",
      "      68           2449         0.2         9  \n",
      "      69           3042         0.2        12  \n",
      "      70           2523         0.2        10  \n",
      "      71           1917         0.1        10  \n",
      "      72         159509        10.2        27  \n",
      "      73            584         0.0         4  \n",
      "      74           1035         0.1         6  \n",
      "      75           1500         0.1         8  \n",
      "      76            455         0.0         4  \n",
      "      77            385         0.0         4  \n",
      "      78            389         0.0         4  \n",
      "      79            554         0.0         4  \n",
      "      80           1041         0.1         5  \n",
      "      81            648         0.0         7  \n",
      "      82            985         0.1         4  \n",
      "      83            332         0.0         3  \n",
      "      84            757         0.0         2  \n",
      "      85            512         0.0         3  \n",
      "      86            603         0.0         5  \n",
      "      87            697         0.0         3  \n",
      "      88            880         0.1         3  \n",
      "      89            533         0.0         3  \n",
      "      90            718         0.0         2  \n",
      "      91            912         0.1         5  \n",
      "      92           1473         0.1         4  \n",
      "      93           1212         0.1         2  \n",
      "      94           1312         0.1         3  \n",
      "      95             95         0.0         1  \n",
      "      96          17487         1.1        12  \n",
      "      97             97         0.0         1  \n",
      "      98             98         0.0         1  \n",
      "     100           5004         0.3         6  \n",
      "     101            203         0.0         1  \n",
      "     102            102         0.0         1  \n",
      "     103            411         0.0         3  \n",
      "     104            104         0.0         1  \n",
      "     105            210         0.0         2  \n",
      "     106            318         0.0         3  \n",
      "     107            214         0.0         2  \n",
      "     108            108         0.0         1  \n",
      "     110            549         0.0         2  \n",
      "     112            224         0.0         2  \n",
      "     115            230         0.0         2  \n",
      "     116            464         0.0         1  \n",
      "     117            469         0.0         1  \n",
      "     119            119         0.0         1  \n",
      "     120           1201         0.1         5  \n",
      "     122            122         0.0         1  \n",
      "     123            123         0.0         1  \n",
      "     124           1241         0.1         3  \n",
      "     130            649         0.0         2  \n",
      "     131            525         0.0         1  \n",
      "     132            396         0.0         2  \n",
      "     133            531         0.0         1  \n",
      "     134           1744         0.1         3  \n",
      "     136            272         0.0         1  \n",
      "     139           1390         0.1         2  \n",
      "     140            839         0.1         1  \n",
      "     143           5724         0.4         3  \n",
      "     144          81679         5.2        18  \n"
     ]
    }
   ],
   "source": [
    "gp = df.groupby(\"elapsed-hours\").agg({\"gpu-hours\":\"sum\", \"user\":lambda series: series.unique().size})\n",
    "gp = gp.reset_index(drop=False).rename(columns={\"user\":\"users\"})\n",
    "gp[\"proportion(%)\"] = gp[\"gpu-hours\"].apply(lambda x: round(100 * x / gp[\"gpu-hours\"].sum(), 1))\n",
    "gp[\"gpu-hours\"] = gp[\"gpu-hours\"].apply(round)\n",
    "print(gp[[\"elapsed-hours\", \"gpu-hours\", \"proportion(%)\", \"users\"]].to_string(index=False, justify=\"center\"))"
   ]
  },
  {
   "cell_type": "code",
   "execution_count": 13,
   "id": "3df87fa8-c54a-45d4-8174-8f0aeadae8d4",
   "metadata": {},
   "outputs": [
    {
     "data": {
      "image/png": "[encoded data removed]",
      "text/plain": [
       "<Figure size 1200x500 with 1 Axes>"
      ]
     },
     "metadata": {},
     "output_type": "display_data"
    }
   ],
   "source": [
    "fig, ax = plt.subplots(figsize=(12, 5))\n",
    "plt.bar(gp[\"elapsed-hours\"], gp[\"proportion(%)\"])\n",
    "plt.xlabel(\"Execution Time (Hours)\")\n",
    "plt.ylabel(\"Proportion of Total GPU-Hours (%)\")\n",
    "plt.title(\"Della (gpu,gpu-shared,gputest) from June 1 to Dec 19, 2024\")\n",
    "plt.savefig(\"gpu_hours_vs_execution_time.jpg\")"
   ]
  },
  {
   "cell_type": "code",
   "execution_count": 14,
   "id": "51bf8cfb-76bc-4157-b21e-e98c6356c57c",
   "metadata": {},
   "outputs": [
    {
     "data": {
      "text/plain": [
       "21.1"
      ]
     },
     "execution_count": 14,
     "metadata": {},
     "output_type": "execute_result"
    }
   ],
   "source": [
    "gp[gp[\"elapsed-hours\"] <= 4][\"proportion(%)\"].sum()"
   ]
  },
  {
   "cell_type": "code",
   "execution_count": 15,
   "id": "485a9bf2-467a-4eeb-bbcc-1001f5d9fc6f",
   "metadata": {},
   "outputs": [
    {
     "data": {
      "text/plain": [
       "29.5"
      ]
     },
     "execution_count": 15,
     "metadata": {},
     "output_type": "execute_result"
    }
   ],
   "source": [
    "gp[gp[\"elapsed-hours\"] <= 8][\"proportion(%)\"].sum()"
   ]
  },
  {
   "cell_type": "code",
   "execution_count": 16,
   "id": "92a5607b-8b8c-40b2-ba11-37ecbf1ff03f",
   "metadata": {},
   "outputs": [
    {
     "data": {
      "text/plain": [
       "36.8"
      ]
     },
     "execution_count": 16,
     "metadata": {},
     "output_type": "execute_result"
    }
   ],
   "source": [
    "gp[gp[\"elapsed-hours\"] <= 12][\"proportion(%)\"].sum()"
   ]
  },
  {
   "cell_type": "code",
   "execution_count": 17,
   "id": "11577217-aa8a-4938-95bf-b1dd798151d2",
   "metadata": {},
   "outputs": [
    {
     "data": {
      "text/plain": [
       "71.39999999999999"
      ]
     },
     "execution_count": 17,
     "metadata": {},
     "output_type": "execute_result"
    }
   ],
   "source": [
    "gp[gp[\"elapsed-hours\"] <= 24][\"proportion(%)\"].sum()"
   ]
  },
  {
   "cell_type": "code",
   "execution_count": 18,
   "id": "d88c4421-cbb8-475d-af59-6d524df8a440",
   "metadata": {},
   "outputs": [
    {
     "data": {
      "text/plain": [
       "99.6"
      ]
     },
     "execution_count": 18,
     "metadata": {},
     "output_type": "execute_result"
    }
   ],
   "source": [
    "gp[gp[\"elapsed-hours\"] <= 144][\"proportion(%)\"].sum()"
   ]
  }
 ],
 "metadata": {
  "kernelspec": {
   "display_name": "Python 3 (ipykernel)",
   "language": "python",
   "name": "python3"
  },
  "language_info": {
   "codemirror_mode": {
    "name": "ipython",
    "version": 3
   },
   "file_extension": ".py",
   "mimetype": "text/x-python",
   "name": "python",
   "nbconvert_exporter": "python",
   "pygments_lexer": "ipython3",
   "version": "3.12.4"
  }
 },
 "nbformat": 4,
 "nbformat_minor": 5
}
