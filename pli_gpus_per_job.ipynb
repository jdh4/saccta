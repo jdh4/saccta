{
 "cells": [
  {
   "cell_type": "markdown",
   "id": "1e0b6ade-2e8e-4b9b-a368-987543f57d9a",
   "metadata": {},
   "source": [
    "# GPUs per Job on PLI"
   ]
  },
  {
   "cell_type": "code",
   "execution_count": 1,
   "id": "53021909-a02c-4459-b8e6-1937958728f2",
   "metadata": {},
   "outputs": [],
   "source": [
    "import os\n",
    "import re\n",
    "import subprocess\n",
    "from calendar import monthrange\n",
    "import pandas as pd\n",
    "import numpy as np"
   ]
  },
  {
   "cell_type": "code",
   "execution_count": 2,
   "id": "86640bfd-3c06-4e09-b143-8f8fff7c0853",
   "metadata": {},
   "outputs": [],
   "source": [
    "os.environ[\"SLURM_TIME_FORMAT\"] = \"%s\""
   ]
  },
  {
   "cell_type": "code",
   "execution_count": 3,
   "id": "2fec82d2-c291-4a26-8f12-850eb14f20b0",
   "metadata": {},
   "outputs": [],
   "source": [
    "def get_data_from_sacct(clusters: str,\n",
    "                        start_date: str,\n",
    "                        end_date: str,\n",
    "                        partitions: str,\n",
    "                        fields: str) -> pd.DataFrame:\n",
    "    \"\"\"Return a dataframe of the sacct output.\"\"\"\n",
    "    cmd = f\"sacct -M {clusters} -r {partitions} -X -P -n -S {start_date} -E {end_date} -a -o {fields}\"\n",
    "    print(cmd)\n",
    "    output = subprocess.run(cmd,\n",
    "                            stdout=subprocess.PIPE,\n",
    "                            shell=True,\n",
    "                            timeout=100,\n",
    "                            text=True,\n",
    "                            check=True)\n",
    "    rows = [row.split(\"|\") for row in output.stdout.split()]\n",
    "    df = pd.DataFrame(rows)\n",
    "    df.columns = fields.split(\",\")\n",
    "    return df"
   ]
  },
  {
   "cell_type": "code",
   "execution_count": 4,
   "id": "4e4743e4-c709-470d-ab91-84e7b6fc7b77",
   "metadata": {},
   "outputs": [],
   "source": [
    "def clean_dataframe(df):\n",
    "    col = \"elapsedraw\"\n",
    "    df = df[pd.notna(df[col])]\n",
    "    df = df[df[col].str.isnumeric()]\n",
    "    df[col] = df[col].astype(\"int64\")\n",
    "    df = df[df[col] > 0]\n",
    "    df = df[pd.notna(df[\"alloctres\"]) & df[\"alloctres\"].str.contains(\"gres/gpu=\")]\n",
    "    return df"
   ]
  },
  {
   "cell_type": "code",
   "execution_count": 5,
   "id": "71a43c7e-1576-4c70-b5d0-795225a8567c",
   "metadata": {},
   "outputs": [
    {
     "name": "stdout",
     "output_type": "stream",
     "text": [
      "sacct -M della -r cli,pli-c,pli,pli-p,pli-cp,pli-lc -X -P -n -S 2024-06-01T00:00:00 -E now -a -o user,elapsedraw,alloctres\n"
     ]
    }
   ],
   "source": [
    "s = \"2024-06-01T00:00:00\"\n",
    "e = \"now\"\n",
    "partitions = \"cli,pli-c,pli,pli-p,pli-cp,pli-lc\"\n",
    "fields = \"user,elapsedraw,alloctres\"\n",
    "df = get_data_from_sacct(\"della\", s, e, partitions, fields)    "
   ]
  },
  {
   "cell_type": "code",
   "execution_count": 6,
   "id": "38afc21b-95fa-4f3b-b7ce-1da326fda70b",
   "metadata": {},
   "outputs": [],
   "source": [
    "df = clean_dataframe(df)"
   ]
  },
  {
   "cell_type": "code",
   "execution_count": 7,
   "id": "3e9e18f2-fe1b-44ad-8130-9e776687f540",
   "metadata": {},
   "outputs": [],
   "source": [
    "def gpus_per_job(tres: str) -> int:\n",
    "    \"\"\"Return the number of allocated GPUs.\"\"\"\n",
    "    gpus = re.findall(r\"gres/gpu=\\d+\", tres)\n",
    "    return int(gpus[0].replace(\"gres/gpu=\", \"\")) if gpus else 0"
   ]
  },
  {
   "cell_type": "code",
   "execution_count": 8,
   "id": "ff85c042-030a-4d93-adab-aa469d28587e",
   "metadata": {},
   "outputs": [],
   "source": [
    "df[\"gpus_per_job\"] = df[\"alloctres\"].apply(gpus_per_job)\n",
    "df[\"gpu-hours\"] = df[\"gpus_per_job\"] * df[\"elapsedraw\"] / 3600"
   ]
  },
  {
   "cell_type": "markdown",
   "id": "16cb63c6-7beb-4d01-9e38-43b932e02f01",
   "metadata": {},
   "source": [
    "## Overall Usage"
   ]
  },
  {
   "cell_type": "code",
   "execution_count": 9,
   "id": "7d0ce965-7be7-4b60-b532-7c1c8e06304b",
   "metadata": {},
   "outputs": [
    {
     "data": {
      "text/plain": [
       "0.734520415913225"
      ]
     },
     "execution_count": 9,
     "metadata": {},
     "output_type": "execute_result"
    }
   ],
   "source": [
    "days = 6 * 30.5 + 3\n",
    "hours_per_day = 24\n",
    "gpus = 296\n",
    "overall_usage = df[\"gpu-hours\"].sum() / (days * hours_per_day * gpus)\n",
    "overall_usage"
   ]
  },
  {
   "cell_type": "markdown",
   "id": "a70d7e1f-151a-4051-b5c5-ad7cd3307eaf",
   "metadata": {},
   "source": [
    "## GPUs per Job vs. GPU-Hours"
   ]
  },
  {
   "cell_type": "code",
   "execution_count": 10,
   "id": "f5d190ba-b7b0-4b20-89ec-8a782027019a",
   "metadata": {},
   "outputs": [
    {
     "name": "stdout",
     "output_type": "stream",
     "text": [
      " gpus_per_job  gpu-hours  proportion(%)  users\n",
      "       1        182159         19         79  \n",
      "       2         26083          3         55  \n",
      "       3          2605          0         11  \n",
      "       4        166342         17         66  \n",
      "       5           877          0          3  \n",
      "       6          2267          0          7  \n",
      "       7          1459          0          4  \n",
      "       8        214549         22         51  \n",
      "      12           141          0          3  \n",
      "      16         26864          3         15  \n",
      "      18             1          0          1  \n",
      "      32        311295         32          8  \n",
      "      64         35661          4          2  \n",
      "     128           251          0          2  \n"
     ]
    }
   ],
   "source": [
    "gp = df.groupby(\"gpus_per_job\").agg({\"gpu-hours\":\"sum\", \"user\":lambda series: series.unique().size})\n",
    "gp = gp.reset_index(drop=False).rename(columns={\"user\":\"users\"})\n",
    "gp[\"proportion(%)\"] = gp[\"gpu-hours\"].apply(lambda x: round(100 * x / gp[\"gpu-hours\"].sum()))\n",
    "gp[\"gpu-hours\"] = gp[\"gpu-hours\"].apply(round)\n",
    "print(gp[[\"gpus_per_job\", \"gpu-hours\", \"proportion(%)\", \"users\"]].to_string(index=False, justify=\"center\"))"
   ]
  }
 ],
 "metadata": {
  "kernelspec": {
   "display_name": "Python 3 (ipykernel)",
   "language": "python",
   "name": "python3"
  },
  "language_info": {
   "codemirror_mode": {
    "name": "ipython",
    "version": 3
   },
   "file_extension": ".py",
   "mimetype": "text/x-python",
   "name": "python",
   "nbconvert_exporter": "python",
   "pygments_lexer": "ipython3",
   "version": "3.12.4"
  }
 },
 "nbformat": 4,
 "nbformat_minor": 5
}
