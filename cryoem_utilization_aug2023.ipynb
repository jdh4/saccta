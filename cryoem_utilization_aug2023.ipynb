{
 "cells": [
  {
   "cell_type": "markdown",
   "id": "2dffb40c",
   "metadata": {},
   "source": [
    "# Utilization of the cryoem nodes\n",
    "### August 2023\n",
    "### J. Halverson"
   ]
  },
  {
   "cell_type": "code",
   "execution_count": 1,
   "id": "6fa58ffa",
   "metadata": {},
   "outputs": [],
   "source": [
    "import subprocess\n",
    "import pandas as pd\n",
    "from datetime import datetime"
   ]
  },
  {
   "cell_type": "code",
   "execution_count": 2,
   "id": "211131c7",
   "metadata": {},
   "outputs": [],
   "source": [
    "start_date = \"2023-05-01\"\n",
    "end_date = \"2023-08-20\""
   ]
  },
  {
   "cell_type": "code",
   "execution_count": 3,
   "id": "c374dcef",
   "metadata": {},
   "outputs": [],
   "source": [
    "fields = \"jobid,user,account,partition,nnodes,ncpus,alloctres,elapsedraw,nodelist\"\n",
    "cmd = f\"sacct -M della -a -X -P -n -S {start_date} -E {end_date} -o {fields} -r cryoem\""
   ]
  },
  {
   "cell_type": "code",
   "execution_count": 4,
   "id": "15eec42b",
   "metadata": {},
   "outputs": [],
   "source": [
    "output = subprocess.run(cmd,\n",
    "                        stdout=subprocess.PIPE,\n",
    "                        shell=True,\n",
    "                        timeout=100,\n",
    "                        text=True,\n",
    "                        check=True)"
   ]
  },
  {
   "cell_type": "code",
   "execution_count": 5,
   "id": "fe83ad30",
   "metadata": {},
   "outputs": [],
   "source": [
    "rows = [row.split(\"|\") for row in output.stdout.split()]\n",
    "df = pd.DataFrame(rows)\n",
    "df.columns = fields.split(\",\")"
   ]
  },
  {
   "cell_type": "code",
   "execution_count": 6,
   "id": "6b03e3d2",
   "metadata": {},
   "outputs": [
    {
     "data": {
      "text/html": [
       "<div>\n",
       "<style scoped>\n",
       "    .dataframe tbody tr th:only-of-type {\n",
       "        vertical-align: middle;\n",
       "    }\n",
       "\n",
       "    .dataframe tbody tr th {\n",
       "        vertical-align: top;\n",
       "    }\n",
       "\n",
       "    .dataframe thead th {\n",
       "        text-align: right;\n",
       "    }\n",
       "</style>\n",
       "<table border=\"1\" class=\"dataframe\">\n",
       "  <thead>\n",
       "    <tr style=\"text-align: right;\">\n",
       "      <th></th>\n",
       "      <th>0</th>\n",
       "      <th>1</th>\n",
       "    </tr>\n",
       "  </thead>\n",
       "  <tbody>\n",
       "    <tr>\n",
       "      <th>jobid</th>\n",
       "      <td>47332172</td>\n",
       "      <td>47347657</td>\n",
       "    </tr>\n",
       "    <tr>\n",
       "      <th>user</th>\n",
       "      <td>xuelanw</td>\n",
       "      <td>zhonge</td>\n",
       "    </tr>\n",
       "    <tr>\n",
       "      <th>account</th>\n",
       "      <td>molbio</td>\n",
       "      <td>cs</td>\n",
       "    </tr>\n",
       "    <tr>\n",
       "      <th>partition</th>\n",
       "      <td>cryoem</td>\n",
       "      <td>cryoem</td>\n",
       "    </tr>\n",
       "    <tr>\n",
       "      <th>nnodes</th>\n",
       "      <td>3</td>\n",
       "      <td>1</td>\n",
       "    </tr>\n",
       "    <tr>\n",
       "      <th>ncpus</th>\n",
       "      <td>84</td>\n",
       "      <td>1</td>\n",
       "    </tr>\n",
       "    <tr>\n",
       "      <th>alloctres</th>\n",
       "      <td>billing=84,cpu=84,gres/gpu=9,mem=375G,node=3</td>\n",
       "      <td>billing=40,cpu=1,gres/gpu=1,mem=512G,node=1</td>\n",
       "    </tr>\n",
       "    <tr>\n",
       "      <th>elapsedraw</th>\n",
       "      <td>173129</td>\n",
       "      <td>162549</td>\n",
       "    </tr>\n",
       "    <tr>\n",
       "      <th>nodelist</th>\n",
       "      <td>della-l06g[6-8]</td>\n",
       "      <td>della-l09g9</td>\n",
       "    </tr>\n",
       "  </tbody>\n",
       "</table>\n",
       "</div>"
      ],
      "text/plain": [
       "                                                       0  \\\n",
       "jobid                                           47332172   \n",
       "user                                             xuelanw   \n",
       "account                                           molbio   \n",
       "partition                                         cryoem   \n",
       "nnodes                                                 3   \n",
       "ncpus                                                 84   \n",
       "alloctres   billing=84,cpu=84,gres/gpu=9,mem=375G,node=3   \n",
       "elapsedraw                                        173129   \n",
       "nodelist                                 della-l06g[6-8]   \n",
       "\n",
       "                                                      1  \n",
       "jobid                                          47347657  \n",
       "user                                             zhonge  \n",
       "account                                              cs  \n",
       "partition                                        cryoem  \n",
       "nnodes                                                1  \n",
       "ncpus                                                 1  \n",
       "alloctres   billing=40,cpu=1,gres/gpu=1,mem=512G,node=1  \n",
       "elapsedraw                                       162549  \n",
       "nodelist                                    della-l09g9  "
      ]
     },
     "execution_count": 6,
     "metadata": {},
     "output_type": "execute_result"
    }
   ],
   "source": [
    "df.head(2).T"
   ]
  },
  {
   "cell_type": "code",
   "execution_count": 7,
   "id": "56f0d9e8",
   "metadata": {},
   "outputs": [
    {
     "name": "stdout",
     "output_type": "stream",
     "text": [
      "<class 'pandas.core.frame.DataFrame'>\n",
      "RangeIndex: 35464 entries, 0 to 35463\n",
      "Data columns (total 9 columns):\n",
      " #   Column      Non-Null Count  Dtype \n",
      "---  ------      --------------  ----- \n",
      " 0   jobid       35464 non-null  object\n",
      " 1   user        35063 non-null  object\n",
      " 2   account     35063 non-null  object\n",
      " 3   partition   35063 non-null  object\n",
      " 4   nnodes      35063 non-null  object\n",
      " 5   ncpus       35063 non-null  object\n",
      " 6   alloctres   35063 non-null  object\n",
      " 7   elapsedraw  35063 non-null  object\n",
      " 8   nodelist    35063 non-null  object\n",
      "dtypes: object(9)\n",
      "memory usage: 2.4+ MB\n"
     ]
    }
   ],
   "source": [
    "df.info()"
   ]
  },
  {
   "cell_type": "markdown",
   "id": "e0e01682",
   "metadata": {},
   "source": [
    "Only consider jobs that ran for 1 second or more:"
   ]
  },
  {
   "cell_type": "code",
   "execution_count": 8,
   "id": "3af756ff",
   "metadata": {},
   "outputs": [],
   "source": [
    "df = df[pd.notna(df.elapsedraw) & df.elapsedraw.str.isnumeric()]\n",
    "df.elapsedraw = df.elapsedraw.astype(\"int64\")\n",
    "df = df[df.elapsedraw > 0]"
   ]
  },
  {
   "cell_type": "code",
   "execution_count": 9,
   "id": "c03eab7b",
   "metadata": {},
   "outputs": [
    {
     "data": {
      "text/plain": [
       "34599"
      ]
     },
     "execution_count": 9,
     "metadata": {},
     "output_type": "execute_result"
    }
   ],
   "source": [
    "df.shape[0]"
   ]
  },
  {
   "cell_type": "markdown",
   "id": "f5f4f91e",
   "metadata": {},
   "source": [
    "Expand the nodelist into a Python list for each job. This will allow us to exclude the v100 nodes."
   ]
  },
  {
   "cell_type": "code",
   "execution_count": 10,
   "id": "2addd835",
   "metadata": {},
   "outputs": [],
   "source": [
    "def make_node_list(nodes: str) -> list:\n",
    "    \"\"\"Convert a nodelist from sacct to a Python list of node names. For\n",
    "       example: della-l07g[4-7],della-l08g2 becomes\n",
    "       ['della-l07g4', 'della-l07g5', 'della-l07g6', 'della-l07g7', 'della-l08g2']\n",
    "    \"\"\"\n",
    "    cmd = f\"scontrol show hostname {nodes}\"\n",
    "    try:\n",
    "        output = subprocess.run(cmd,\n",
    "                                stdout=subprocess.PIPE,\n",
    "                                shell=True,\n",
    "                                timeout=5,\n",
    "                                text=True,\n",
    "                                check=True)\n",
    "    except:\n",
    "        print(f\"Failed to get nodes for {nodes}\")\n",
    "    else:\n",
    "        return output.stdout.strip().split(\"\\n\")"
   ]
  },
  {
   "cell_type": "markdown",
   "id": "e4ba1aca",
   "metadata": {},
   "source": [
    "Next line may take several minutes to run -- use cache after first run or only function to jobs with more than 1 node:"
   ]
  },
  {
   "cell_type": "code",
   "execution_count": 11,
   "id": "a22263aa",
   "metadata": {},
   "outputs": [],
   "source": [
    "cache = False"
   ]
  },
  {
   "cell_type": "code",
   "execution_count": 12,
   "id": "84845572",
   "metadata": {},
   "outputs": [],
   "source": [
    "if cache:\n",
    "    df = pd.read_json(\"cache.json\")\n",
    "else:\n",
    "    df[\"nodes\"] = df[\"nodelist\"].apply(make_node_list)\n",
    "    df.to_json(\"cache.json\")"
   ]
  },
  {
   "cell_type": "markdown",
   "id": "08cbd8b7",
   "metadata": {},
   "source": [
    "Add GPU metrics:"
   ]
  },
  {
   "cell_type": "code",
   "execution_count": 13,
   "id": "0c34b36b",
   "metadata": {},
   "outputs": [],
   "source": [
    "def gpus_per_job(tres: str) -> int:\n",
    "    \"\"\"Extract number of GPUs from alloctres.\"\"\"\n",
    "    if \"gres/gpu=\" in tres:\n",
    "        for part in tres.split(\",\"):\n",
    "            if \"gres/gpu=\" in part:\n",
    "                gpus = int(part.split(\"=\")[-1])\n",
    "        return gpus\n",
    "    else:\n",
    "        return 0"
   ]
  },
  {
   "cell_type": "code",
   "execution_count": 14,
   "id": "f4a440bd",
   "metadata": {},
   "outputs": [],
   "source": [
    "df[\"gpus\"] = df.alloctres.apply(gpus_per_job)\n",
    "df[\"gpu-seconds\"] = df.apply(lambda row: row[\"elapsedraw\"] * row[\"gpus\"], axis='columns')"
   ]
  },
  {
   "cell_type": "code",
   "execution_count": 15,
   "id": "b41952a7",
   "metadata": {},
   "outputs": [
    {
     "data": {
      "text/html": [
       "<div>\n",
       "<style scoped>\n",
       "    .dataframe tbody tr th:only-of-type {\n",
       "        vertical-align: middle;\n",
       "    }\n",
       "\n",
       "    .dataframe tbody tr th {\n",
       "        vertical-align: top;\n",
       "    }\n",
       "\n",
       "    .dataframe thead th {\n",
       "        text-align: right;\n",
       "    }\n",
       "</style>\n",
       "<table border=\"1\" class=\"dataframe\">\n",
       "  <thead>\n",
       "    <tr style=\"text-align: right;\">\n",
       "      <th></th>\n",
       "      <th>0</th>\n",
       "      <th>1</th>\n",
       "    </tr>\n",
       "  </thead>\n",
       "  <tbody>\n",
       "    <tr>\n",
       "      <th>jobid</th>\n",
       "      <td>47332172</td>\n",
       "      <td>47347657</td>\n",
       "    </tr>\n",
       "    <tr>\n",
       "      <th>user</th>\n",
       "      <td>xuelanw</td>\n",
       "      <td>zhonge</td>\n",
       "    </tr>\n",
       "    <tr>\n",
       "      <th>account</th>\n",
       "      <td>molbio</td>\n",
       "      <td>cs</td>\n",
       "    </tr>\n",
       "    <tr>\n",
       "      <th>partition</th>\n",
       "      <td>cryoem</td>\n",
       "      <td>cryoem</td>\n",
       "    </tr>\n",
       "    <tr>\n",
       "      <th>nnodes</th>\n",
       "      <td>3</td>\n",
       "      <td>1</td>\n",
       "    </tr>\n",
       "    <tr>\n",
       "      <th>ncpus</th>\n",
       "      <td>84</td>\n",
       "      <td>1</td>\n",
       "    </tr>\n",
       "    <tr>\n",
       "      <th>alloctres</th>\n",
       "      <td>billing=84,cpu=84,gres/gpu=9,mem=375G,node=3</td>\n",
       "      <td>billing=40,cpu=1,gres/gpu=1,mem=512G,node=1</td>\n",
       "    </tr>\n",
       "    <tr>\n",
       "      <th>elapsedraw</th>\n",
       "      <td>173129</td>\n",
       "      <td>162549</td>\n",
       "    </tr>\n",
       "    <tr>\n",
       "      <th>nodelist</th>\n",
       "      <td>della-l06g[6-8]</td>\n",
       "      <td>della-l09g9</td>\n",
       "    </tr>\n",
       "    <tr>\n",
       "      <th>nodes</th>\n",
       "      <td>[della-l06g6, della-l06g7, della-l06g8]</td>\n",
       "      <td>[della-l09g9]</td>\n",
       "    </tr>\n",
       "    <tr>\n",
       "      <th>gpus</th>\n",
       "      <td>9</td>\n",
       "      <td>1</td>\n",
       "    </tr>\n",
       "    <tr>\n",
       "      <th>gpu-seconds</th>\n",
       "      <td>1558161</td>\n",
       "      <td>162549</td>\n",
       "    </tr>\n",
       "  </tbody>\n",
       "</table>\n",
       "</div>"
      ],
      "text/plain": [
       "                                                        0  \\\n",
       "jobid                                            47332172   \n",
       "user                                              xuelanw   \n",
       "account                                            molbio   \n",
       "partition                                          cryoem   \n",
       "nnodes                                                  3   \n",
       "ncpus                                                  84   \n",
       "alloctres    billing=84,cpu=84,gres/gpu=9,mem=375G,node=3   \n",
       "elapsedraw                                         173129   \n",
       "nodelist                                  della-l06g[6-8]   \n",
       "nodes             [della-l06g6, della-l06g7, della-l06g8]   \n",
       "gpus                                                    9   \n",
       "gpu-seconds                                       1558161   \n",
       "\n",
       "                                                       1  \n",
       "jobid                                           47347657  \n",
       "user                                              zhonge  \n",
       "account                                               cs  \n",
       "partition                                         cryoem  \n",
       "nnodes                                                 1  \n",
       "ncpus                                                  1  \n",
       "alloctres    billing=40,cpu=1,gres/gpu=1,mem=512G,node=1  \n",
       "elapsedraw                                        162549  \n",
       "nodelist                                     della-l09g9  \n",
       "nodes                                      [della-l09g9]  \n",
       "gpus                                                   1  \n",
       "gpu-seconds                                       162549  "
      ]
     },
     "execution_count": 15,
     "metadata": {},
     "output_type": "execute_result"
    }
   ],
   "source": [
    "df.head(2).T"
   ]
  },
  {
   "cell_type": "markdown",
   "id": "7621e832",
   "metadata": {},
   "source": [
    "Exclude jobs that ran on the v100 nodes."
   ]
  },
  {
   "cell_type": "code",
   "execution_count": 16,
   "id": "6225534e",
   "metadata": {},
   "outputs": [
    {
     "data": {
      "text/plain": [
       "['della-l06g1',\n",
       " 'della-l06g2',\n",
       " 'della-l06g3',\n",
       " 'della-l06g4',\n",
       " 'della-l06g5',\n",
       " 'della-l06g6',\n",
       " 'della-l06g7',\n",
       " 'della-l06g8',\n",
       " 'della-l06g9',\n",
       " 'della-l06g10',\n",
       " 'della-l06g11',\n",
       " 'della-l07g8',\n",
       " 'della-l07g9',\n",
       " 'della-l08g8',\n",
       " 'della-l08g9',\n",
       " 'della-l09g8',\n",
       " 'della-l09g9']"
      ]
     },
     "execution_count": 16,
     "metadata": {},
     "output_type": "execute_result"
    }
   ],
   "source": [
    "v100 = [f\"della-l06g{i}\" for i in range(1, 12)] + \\\n",
    "       [\"della-l07g8\", \"della-l07g9\"] + \\\n",
    "       [\"della-l08g8\", \"della-l08g9\"] + \\\n",
    "       [\"della-l09g8\", \"della-l09g9\"]\n",
    "v100"
   ]
  },
  {
   "cell_type": "code",
   "execution_count": 17,
   "id": "ff81c28d",
   "metadata": {},
   "outputs": [],
   "source": [
    "def ran_on_v100(job_nodes: list, v100_nodes: list) -> bool:\n",
    "    diff = set(job_nodes) - set(v100_nodes)\n",
    "    return True if len(diff) == 0 else False"
   ]
  },
  {
   "cell_type": "code",
   "execution_count": 18,
   "id": "9a58b3cd",
   "metadata": {},
   "outputs": [],
   "source": [
    "df[\"v100\"] = df.nodes.apply(lambda job_nodes: ran_on_v100(job_nodes, v100))"
   ]
  },
  {
   "cell_type": "code",
   "execution_count": 19,
   "id": "26ebf6d2",
   "metadata": {},
   "outputs": [
    {
     "data": {
      "text/html": [
       "<div>\n",
       "<style scoped>\n",
       "    .dataframe tbody tr th:only-of-type {\n",
       "        vertical-align: middle;\n",
       "    }\n",
       "\n",
       "    .dataframe tbody tr th {\n",
       "        vertical-align: top;\n",
       "    }\n",
       "\n",
       "    .dataframe thead th {\n",
       "        text-align: right;\n",
       "    }\n",
       "</style>\n",
       "<table border=\"1\" class=\"dataframe\">\n",
       "  <thead>\n",
       "    <tr style=\"text-align: right;\">\n",
       "      <th></th>\n",
       "      <th>0</th>\n",
       "      <th>1</th>\n",
       "    </tr>\n",
       "  </thead>\n",
       "  <tbody>\n",
       "    <tr>\n",
       "      <th>jobid</th>\n",
       "      <td>47332172</td>\n",
       "      <td>47347657</td>\n",
       "    </tr>\n",
       "    <tr>\n",
       "      <th>user</th>\n",
       "      <td>xuelanw</td>\n",
       "      <td>zhonge</td>\n",
       "    </tr>\n",
       "    <tr>\n",
       "      <th>account</th>\n",
       "      <td>molbio</td>\n",
       "      <td>cs</td>\n",
       "    </tr>\n",
       "    <tr>\n",
       "      <th>partition</th>\n",
       "      <td>cryoem</td>\n",
       "      <td>cryoem</td>\n",
       "    </tr>\n",
       "    <tr>\n",
       "      <th>nnodes</th>\n",
       "      <td>3</td>\n",
       "      <td>1</td>\n",
       "    </tr>\n",
       "    <tr>\n",
       "      <th>ncpus</th>\n",
       "      <td>84</td>\n",
       "      <td>1</td>\n",
       "    </tr>\n",
       "    <tr>\n",
       "      <th>alloctres</th>\n",
       "      <td>billing=84,cpu=84,gres/gpu=9,mem=375G,node=3</td>\n",
       "      <td>billing=40,cpu=1,gres/gpu=1,mem=512G,node=1</td>\n",
       "    </tr>\n",
       "    <tr>\n",
       "      <th>elapsedraw</th>\n",
       "      <td>173129</td>\n",
       "      <td>162549</td>\n",
       "    </tr>\n",
       "    <tr>\n",
       "      <th>nodelist</th>\n",
       "      <td>della-l06g[6-8]</td>\n",
       "      <td>della-l09g9</td>\n",
       "    </tr>\n",
       "    <tr>\n",
       "      <th>nodes</th>\n",
       "      <td>[della-l06g6, della-l06g7, della-l06g8]</td>\n",
       "      <td>[della-l09g9]</td>\n",
       "    </tr>\n",
       "    <tr>\n",
       "      <th>gpus</th>\n",
       "      <td>9</td>\n",
       "      <td>1</td>\n",
       "    </tr>\n",
       "    <tr>\n",
       "      <th>gpu-seconds</th>\n",
       "      <td>1558161</td>\n",
       "      <td>162549</td>\n",
       "    </tr>\n",
       "    <tr>\n",
       "      <th>v100</th>\n",
       "      <td>True</td>\n",
       "      <td>True</td>\n",
       "    </tr>\n",
       "  </tbody>\n",
       "</table>\n",
       "</div>"
      ],
      "text/plain": [
       "                                                        0  \\\n",
       "jobid                                            47332172   \n",
       "user                                              xuelanw   \n",
       "account                                            molbio   \n",
       "partition                                          cryoem   \n",
       "nnodes                                                  3   \n",
       "ncpus                                                  84   \n",
       "alloctres    billing=84,cpu=84,gres/gpu=9,mem=375G,node=3   \n",
       "elapsedraw                                         173129   \n",
       "nodelist                                  della-l06g[6-8]   \n",
       "nodes             [della-l06g6, della-l06g7, della-l06g8]   \n",
       "gpus                                                    9   \n",
       "gpu-seconds                                       1558161   \n",
       "v100                                                 True   \n",
       "\n",
       "                                                       1  \n",
       "jobid                                           47347657  \n",
       "user                                              zhonge  \n",
       "account                                               cs  \n",
       "partition                                         cryoem  \n",
       "nnodes                                                 1  \n",
       "ncpus                                                  1  \n",
       "alloctres    billing=40,cpu=1,gres/gpu=1,mem=512G,node=1  \n",
       "elapsedraw                                        162549  \n",
       "nodelist                                     della-l09g9  \n",
       "nodes                                      [della-l09g9]  \n",
       "gpus                                                   1  \n",
       "gpu-seconds                                       162549  \n",
       "v100                                                True  "
      ]
     },
     "execution_count": 19,
     "metadata": {},
     "output_type": "execute_result"
    }
   ],
   "source": [
    "df.head(2).T"
   ]
  },
  {
   "cell_type": "code",
   "execution_count": 20,
   "id": "2ada2003",
   "metadata": {},
   "outputs": [],
   "source": [
    "a100_jobs = df[~df.v100]"
   ]
  },
  {
   "cell_type": "markdown",
   "id": "74ded187",
   "metadata": {},
   "source": [
    "Maxium available GPU hours on the 21 nodes:"
   ]
  },
  {
   "cell_type": "code",
   "execution_count": 21,
   "id": "6542f346",
   "metadata": {},
   "outputs": [],
   "source": [
    "diff = datetime.strptime(end_date, \"%Y-%m-%d\") - datetime.strptime(start_date, \"%Y-%m-%d\")\n",
    "hrs_per_day = 24\n",
    "nodes = 21\n",
    "gpus_per_node = 4\n",
    "max_gpu_hours = diff.days * hrs_per_day * nodes * gpus_per_node"
   ]
  },
  {
   "cell_type": "markdown",
   "id": "582d24d4",
   "metadata": {},
   "source": [
    "Finally, the usage:"
   ]
  },
  {
   "cell_type": "code",
   "execution_count": 22,
   "id": "75ec97c4",
   "metadata": {},
   "outputs": [
    {
     "name": "stdout",
     "output_type": "stream",
     "text": [
      "percent_utilization = 9.8%\n"
     ]
    }
   ],
   "source": [
    "secs_per_hour = 3600\n",
    "percent_utilization = 100 * a100_jobs[\"gpu-seconds\"].sum() / secs_per_hour / max_gpu_hours\n",
    "print(f\"percent_utilization = {round(percent_utilization, 1)}%\")"
   ]
  }
 ],
 "metadata": {
  "kernelspec": {
   "display_name": "Python 3.8 [anaconda3/2020.7]",
   "language": "python",
   "name": "sys_python38"
  },
  "language_info": {
   "codemirror_mode": {
    "name": "ipython",
    "version": 3
   },
   "file_extension": ".py",
   "mimetype": "text/x-python",
   "name": "python",
   "nbconvert_exporter": "python",
   "pygments_lexer": "ipython3",
   "version": "3.8.3"
  }
 },
 "nbformat": 4,
 "nbformat_minor": 5
}
